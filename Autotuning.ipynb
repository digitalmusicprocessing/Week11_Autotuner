{
 "cells": [
  {
   "cell_type": "code",
   "execution_count": null,
   "id": "behavioral-breeding",
   "metadata": {},
   "outputs": [],
   "source": [
    "import librosa\n",
    "import numpy as np\n",
    "import matplotlib.pyplot as plt\n",
    "import IPython.display as ipd"
   ]
  },
  {
   "cell_type": "markdown",
   "id": "effdf631",
   "metadata": {},
   "source": [
    "# Loading / pyYin\n",
    "\n",
    "First, we load in the audio and perform pyin for fundamental frequency tracking"
   ]
  },
  {
   "cell_type": "code",
   "execution_count": null,
   "id": "d5dcfbd0",
   "metadata": {},
   "outputs": [],
   "source": [
    "y, sr = librosa.load(\"voice.wav\")\n",
    "ipd.Audio(y, rate=sr)"
   ]
  },
  {
   "cell_type": "code",
   "execution_count": null,
   "id": "spare-evolution",
   "metadata": {
    "scrolled": false
   },
   "outputs": [],
   "source": [
    "hop_length = 512\n",
    "win_length = 2048\n",
    "S = np.abs(librosa.stft(y, hop_length=hop_length, win_length=win_length))\n",
    "\n",
    "maxfreqs, voiced_flag, voiced_probs = librosa.pyin(y, fmin=80, fmax=2000, sr=sr, hop_length=hop_length)\n",
    "times = np.arange(len(maxfreqs))*hop_length/sr\n",
    "\n",
    "plt.imshow(librosa.amplitude_to_db(S,ref=np.max), cmap='magma', extent=(times[0], times[-1], sr//2, 0), aspect='auto')\n",
    "plt.ylim([0, 5000])\n",
    "plt.plot(times, maxfreqs, linewidth=2, color='cyan')\n",
    "plt.xlabel(\"Time (Sec)\")\n",
    "plt.ylabel(\"Frequency (hz)\")\n"
   ]
  },
  {
   "cell_type": "markdown",
   "id": "1a451189",
   "metadata": {},
   "source": [
    "## Sonifying Instantaneous Frequency"
   ]
  },
  {
   "cell_type": "code",
   "execution_count": null,
   "id": "satisfied-stewart",
   "metadata": {},
   "outputs": [],
   "source": [
    "N = len(maxfreqs)\n",
    "df = np.zeros(N*hop_length) # Instantaneous frequency\n",
    "t = np.arange(hop_length)/sr\n",
    "\n",
    "## TODO: Fill in df\n",
    "\n",
    "\n",
    "# Integrate instantaneous frequency\n",
    "f = np.cumsum(df)/sr\n",
    "x = np.cos(2*np.pi*f)\n",
    "x = np.sign(x)*np.abs(x)**0.5\n",
    "ipd.Audio(x, rate=sr)"
   ]
  },
  {
   "cell_type": "markdown",
   "id": "6afeb726",
   "metadata": {},
   "source": [
    "## Rounding Frequency To Nearest Note, Sonifying Again"
   ]
  },
  {
   "cell_type": "code",
   "execution_count": null,
   "id": "3da3cdff",
   "metadata": {},
   "outputs": [],
   "source": [
    "## TODO: Fill this in"
   ]
  },
  {
   "cell_type": "markdown",
   "id": "d2949d16",
   "metadata": {},
   "source": [
    "## Autotuning"
   ]
  },
  {
   "cell_type": "code",
   "execution_count": null,
   "id": "statewide-sound",
   "metadata": {},
   "outputs": [],
   "source": [
    "from spectrogramtools import *\n",
    "\n",
    "ratios = maxfreqs_round/maxfreqs\n",
    "ratios[np.isnan(ratios)] = 1\n",
    "\n",
    "S2 = np.zeros_like(S)\n",
    "## TODO: Fill in S2 with warped frequencies in each column\n",
    "\n",
    "yshift = griffinLimInverse(S2, win_length, hop_length)\n",
    "ipd.Audio(yshift, rate=sr)"
   ]
  },
  {
   "cell_type": "code",
   "execution_count": null,
   "id": "orange-stephen",
   "metadata": {},
   "outputs": [],
   "source": []
  }
 ],
 "metadata": {
  "kernelspec": {
   "display_name": "Python 3 (ipykernel)",
   "language": "python",
   "name": "python3"
  },
  "language_info": {
   "codemirror_mode": {
    "name": "ipython",
    "version": 3
   },
   "file_extension": ".py",
   "mimetype": "text/x-python",
   "name": "python",
   "nbconvert_exporter": "python",
   "pygments_lexer": "ipython3",
   "version": "3.9.13"
  }
 },
 "nbformat": 4,
 "nbformat_minor": 5
}
